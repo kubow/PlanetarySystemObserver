{
 "cells": [
  {
   "cell_type": "markdown",
   "id": "ef627408",
   "metadata": {},
   "source": [
    "# Layout initilization\n",
    "\n",
    "Prior working with actual data, there must be some initial setup prepared.\n",
    "\n",
    "## 1. Prepare working python environment\n",
    "\n",
    "If you are already running this in jupyter notebook, you can skip this point.\n",
    "\n",
    "\n",
    "## 2. Download source files\n",
    "\n",
    "Next step is to download SPK files to **source** folder. The file **de430.bsp** is covering years between 1550 and 2650 (AD) and is pre-donwloaded in the source folder. In case this file is deleted, the below script can download it.\n"
   ]
  },
  {
   "cell_type": "code",
   "execution_count": 2,
   "id": "4ad5b543",
   "metadata": {},
   "outputs": [
    {
     "name": "stdout",
     "output_type": "stream",
     "text": [
      "Folder ./source is already there\n",
      "Folder ./result is already there\n",
      "file ./source/de430.bsp exists...\n"
     ]
    }
   ],
   "source": [
    "from pathlib import Path\n",
    "\n",
    "def create_dir(dir_name):\n",
    "    '''try to create directory and continue of exists\n",
    "    %dir_name% path to directory\n",
    "    ''' \n",
    "    try:\n",
    "        Path(dir_name).mkdir(parents=True, exist_ok=False)\n",
    "    except FileExistsError:\n",
    "        print(f\"Folder {dir_name} is already there\")\n",
    "    else:\n",
    "        print(f\"Folder {dir_name} was created\")\n",
    "\n",
    "create_dir('./source') # create source directory for bsp files\n",
    "create_dir('./result') # create result directory for computed variants\n",
    "\n",
    "path = Path('./source/de430.bsp')\n",
    "if path.is_file():\n",
    "    print('file ./source/de430.bsp exists...')\n",
    "else:\n",
    "    print('file ./source/de430.bsp donwloading, wait some time please...')\n",
    "    # https://stackoverflow.com/questions/11768214/python-download-a-file-from-an-ftp-server\n",
    "    import shutil\n",
    "    import urllib.request as request\n",
    "    from contextlib import closing\n",
    "    \n",
    "    bsp_location = 'https://naif.jpl.nasa.gov/pub/naif/generic_kernels/spk/planets/de430.bsp'\n",
    "    \n",
    "    with closing(request.urlopen(bsp_location)) as r:\n",
    "        with open('./source/de430.bsp', 'wb') as f:\n",
    "            shutil.copyfileobj(r, f)\n",
    "    print('file ./source/de430.bsp donwloaded ....')\n"
   ]
  },
  {
   "cell_type": "markdown",
   "id": "65427002",
   "metadata": {},
   "source": [
    "## 3. Install python packages\n",
    "\n",
    "In last step it must be verified, that needed python pachages are available. Below script checks for all neccesary packages one by one. Whole installation process is done in respect with [some findings collected on jakevdp.github.io](https://jakevdp.github.io/blog/2017/12/05/installing-python-packages-from-jupyter/).\n",
    "\n"
   ]
  },
  {
   "cell_type": "code",
   "execution_count": 4,
   "id": "085da3e8",
   "metadata": {},
   "outputs": [
    {
     "name": "stdout",
     "output_type": "stream",
     "text": [
      "1. numpy package is available\n",
      "2. pandas package is available\n",
      "3. skyfield package is available\n",
      "4. matplotlib package is available\n"
     ]
    }
   ],
   "source": [
    "import sys  # general purpose built-in python package\n",
    "\n",
    "try:\n",
    "    import numpy\n",
    "    print('1. numpy package is available')\n",
    "except ImportError:\n",
    "    print('1. installing numpy package...')\n",
    "    !{sys.executable} -m pip install numpy\n",
    "\n",
    "try:\n",
    "    import pandas as pd\n",
    "    print('2. pandas package is available')\n",
    "except ImportError:\n",
    "    print('2. installing pandas package...')\n",
    "    !{sys.executable} -m pip install pandas\n",
    "    \n",
    "try:\n",
    "    import skyfield\n",
    "    print('3. skyfield package is available')\n",
    "except ImportError:\n",
    "    print('3. installing skyfield package...')\n",
    "    !{sys.executable} -m pip install numpy\n",
    "\n",
    "try:\n",
    "    import matplotlib.pyplot as plt\n",
    "    print('4. matplotlib package is available')\n",
    "except ImportError:\n",
    "    print('4. installing matplotlib package...')\n",
    "    !{sys.executable} -m pip install matplotlib"
   ]
  },
  {
   "cell_type": "markdown",
   "id": "b13e17aa",
   "metadata": {},
   "source": [
    "All requriements should be satisfied now. Please proceed to next section [→](2_computation.ipynb)."
   ]
  }
 ],
 "metadata": {
  "kernelspec": {
   "display_name": "Python 3",
   "language": "python",
   "name": "python3"
  },
  "language_info": {
   "codemirror_mode": {
    "name": "ipython",
    "version": 3
   },
   "file_extension": ".py",
   "mimetype": "text/x-python",
   "name": "python",
   "nbconvert_exporter": "python",
   "pygments_lexer": "ipython3",
   "version": "3.9.1"
  }
 },
 "nbformat": 4,
 "nbformat_minor": 5
}
