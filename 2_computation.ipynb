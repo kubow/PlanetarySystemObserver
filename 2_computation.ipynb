{
 "cells": [
  {
   "cell_type": "markdown",
   "id": "99fb41aa",
   "metadata": {},
   "source": [
    "# Computation\n",
    "\n",
    "If there any error occurs, please visit previous section to check all requirements [←](1_initialization.ipynb).\n",
    "\n",
    "## Computation prepare\n",
    "\n",
    "Prior starting the computation there needs to be defined several settings.\n"
   ]
  },
  {
   "cell_type": "code",
   "execution_count": 20,
   "id": "89a16f21",
   "metadata": {},
   "outputs": [],
   "source": [
    "start_point = {'day': 1, 'month': 1, 'year': 2022}\n",
    "end_point = {'day': 0, 'month': 1, 'year': 2022}  # leave day=0 for full month\n",
    "granularity = {'day': 0, 'hour': 1, 'minute':0}  # please input only one value / rest 0"
   ]
  },
  {
   "cell_type": "markdown",
   "id": "3954791e",
   "metadata": {},
   "source": [
    "## Let's run\n",
    "\n",
    "..."
   ]
  },
  {
   "cell_type": "code",
   "execution_count": 30,
   "id": "bd18fab5",
   "metadata": {},
   "outputs": [],
   "source": [
    "from calendar import monthrange\n",
    "import pandas as pd\n",
    "from skyfield.api import load, Topos\n",
    "\n",
    "planets = load('./source/de430.bsp')\n",
    "earth, moon = planets['earth'] + Topos('50.1 N', '14.4 E'), planets['moon']\n",
    "data = []\n",
    "timescale = []  # list of time values\n",
    "declination = []  # list of computed values\n",
    "ts = load.timescale()\n",
    "\n",
    "def format_time(year, month, day, hour=12, minute=0):\n",
    "    if not year or not month or not day:\n",
    "        return\n",
    "    else:\n",
    "        return ts.utc(year, month, day, hour, minute).utc_strftime('%Y-%m-%d %H:%M')\n",
    "\n",
    "# iteration that connects values for time and computation together\n",
    "for year in range(start_point['year'], end_point['year']+1):\n",
    "    for month in range(start_point['month'], end_point['month']+1):\n",
    "        day_finish = end_point['day'] if end_point['day'] else monthrange(year, month)[1]\n",
    "        for day in range(start_point['day'], day_finish + 1):\n",
    "            if granularity['hour'] or granularity['minute']:\n",
    "                for hour in range(1, 25):\n",
    "                    if granularity['minute']:\n",
    "                        for minute in range(1, 61):\n",
    "                            data.append([format_time(year, month, day, hour, minute),\n",
    "                                        earth.at(time).observe(moon).radec()[1].radians,\n",
    "                                        earth.at(time).observe(moon).radec()[-1].au])\n",
    "                    else:  # case hourly reporting at 0 minutes \n",
    "                        data.append([format_time(year, month, day, hour),\n",
    "                                    earth.at(time).observe(moon).radec()[1].radians,\n",
    "                                    earth.at(time).observe(moon).radec()[-1].au])\n",
    "            else:  # case daily reporting at 12:00 every day\n",
    "                data.append([format_time(year, month, day),\n",
    "                            earth.at(time).observe(moon).radec()[1].radians,\n",
    "                            earth.at(time).observe(moon).radec()[-1].au])\n",
    "\n",
    "df = pd.DataFrame(data, columns=['date_time', 'declination', 'distance'])\n",
    "df.to_csv('./result/computed.csv')"
   ]
  },
  {
   "cell_type": "markdown",
   "id": "34e5f678",
   "metadata": {},
   "source": [
    "## Further analysis\n",
    "\n",
    "...\n"
   ]
  },
  {
   "cell_type": "code",
   "execution_count": 19,
   "id": "2b7d91a4",
   "metadata": {},
   "outputs": [
    {
     "data": {
      "image/png": "[encoded data removed]",
      "text/plain": [
       "<Figure size 432x288 with 1 Axes>"
      ]
     },
     "metadata": {
      "needs_background": "light"
     },
     "output_type": "display_data"
    }
   ],
   "source": [
    "peak_df = df[(df.shift(1) < df) & (df.shift(-1) < df)]\n",
    "\n",
    "\n",
    "import matplotlib.pyplot as plt\n",
    "\n",
    "plt.plot(timescale, declination)\n",
    "plt.show()"
   ]
  }
 ],
 "metadata": {
  "kernelspec": {
   "display_name": "Python 3",
   "language": "python",
   "name": "python3"
  },
  "language_info": {
   "codemirror_mode": {
    "name": "ipython",
    "version": 3
   },
   "file_extension": ".py",
   "mimetype": "text/x-python",
   "name": "python",
   "nbconvert_exporter": "python",
   "pygments_lexer": "ipython3",
   "version": "3.9.1"
  }
 },
 "nbformat": 4,
 "nbformat_minor": 5
}
