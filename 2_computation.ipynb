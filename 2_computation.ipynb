{
 "cells": [
  {
   "cell_type": "markdown",
   "id": "99fb41aa",
   "metadata": {},
   "source": [
    "# Computation\n",
    "\n",
    "If there any error occurs, please visit previous section to check all requirements [←](1_initialization.ipynb). Otherwise please submit an isuue.\n",
    "\n",
    "## Initial settings\n",
    "\n",
    "Prior starting the computation all the input conditions are read from settings database (settings.db).\n",
    "\n",
    "These are database tables and their descriptions:\n",
    "\n",
    "1. TimePeriod : time span and granularity definition\n",
    "2. ComputeVariants : definition of variants\n",
    "\n",
    "As this code runs either way, it defines also functions, so the computation is more understandable\n",
    "\n",
    "All of below printed can be preferably edited with an sqlite editor, otherwise please use attached python script (test.py)"
   ]
  },
  {
   "cell_type": "code",
   "execution_count": 63,
   "id": "89a16f21",
   "metadata": {},
   "outputs": [
    {
     "name": "stdout",
     "output_type": "stream",
     "text": [
      "Time settings verificaion:\n",
      "  Start: 1. 1. 2022\n",
      "  Finish: 1. 2. 2022\n",
      "  Time step: 0 days 1 hours 0 minutes\n"
     ]
    }
   ],
   "source": [
    "import pandas as pd\n",
    "from skyfield.api import load, Topos\n",
    "from skyfield import timelib\n",
    "import sqlite3\n",
    "\n",
    "################################\n",
    "class Computation:\n",
    "    def __init__(self, c, o):\n",
    "        self.centerpoint = c\n",
    "        self.observed = o\n",
    "        self.c = c\n",
    "        self.ts = load.timescale()\n",
    "\n",
    "    def shift(self, x=0, y=0):\n",
    "        if pd.isna(x) and pd.isna(y):\n",
    "            self.centerpoint = self.c\n",
    "        else:\n",
    "            self.centerpoint = self.c + Topos(f'{x} N', f'{y} E')\n",
    "\n",
    "# define functions\n",
    "def format_time(ts_object):\n",
    "    if isinstance(ts_object, timelib.Time):\n",
    "        return ts_object.utc_strftime('%Y-%m-%d %H:%M')\n",
    "    elif isinstance(ts_object, pd.Timestamp):\n",
    "        return sel.ts.utc(ts_object.year, ts_object.month, ts_object.day, ts_object.hour, ts_object.minute)\n",
    "    else:\n",
    "        return \n",
    "\n",
    "def degrees(t):\n",
    "    # %t%: timestamp value\n",
    "    return sel.centerpoint.at(format_time(t)).observe(sel.observed).radec()[1].degrees\n",
    "\n",
    "def distance(t):\n",
    "    # %t%: timestamp value\n",
    "    return sel.centerpoint.at(format_time(t)).observe(sel.observed).radec()[-1].au\n",
    "\n",
    "def frequency(day=0, hour=0, minute=0):\n",
    "    if minute:\n",
    "        return '1min'\n",
    "    elif hour:\n",
    "        return '60min'\n",
    "    else:\n",
    "        return '1440min'  # 1 day timestep\n",
    "    \n",
    "    \n",
    "def observer(start, end, gran):\n",
    "    \"\"\"iteration that computes values for given parameters\n",
    "    %c%: center point position (with Topos module or another) \n",
    "    %start%: start date (pandas dataframe row)\n",
    "    %end%: end date (pandas dataframe row)\n",
    "    %gran%: granularity (pandas dataframe row)\n",
    "    returns pandas dataframe\n",
    "    \"\"\"\n",
    "    if not isinstance(start, pd.DataFrame) or not isinstance(end, pd.DataFrame) or not isinstance(gran, pd.DataFrame):\n",
    "        return\n",
    "    print(f\"\"\"      from {start.Day.iloc[0]}/{start.Month.iloc[0]}/{start.Year.iloc[0]} \n",
    "        to {end.Day.iloc[0]}/{end.Month.iloc[0]}/{end.Year.iloc[0]} \n",
    "        at time step {gran.Day.iloc[0]} days {gran.Hour.iloc[0]} hours {gran.Minute.iloc[0]} minutes\"\"\")\n",
    "    time_span = pd.date_range(f'{start.Month.iloc[0]}/{start.Day.iloc[0]}/{start.Year.iloc[0]}',\n",
    "                             f'{end.Month.iloc[0]}/{end.Day.iloc[0]}/{end.Year.iloc[0]}',\n",
    "                             freq=frequency(gran.Day.iloc[0], gran.Hour.iloc[0], gran.Minute.iloc[0]))\n",
    "    \n",
    "    obs = pd.DataFrame(time_span, columns=['date_time'])\n",
    "    obs['declination'] = obs['date_time'].apply(degrees)\n",
    "    obs['distance'] = obs['date_time'].apply(distance)\n",
    "    \n",
    "    return obs\n",
    "################################\n",
    "\n",
    "db_connection = sqlite3.connect(\"./settings.db\")\n",
    "time_period = pd.read_sql(\"select * from TimePeriod\", db_connection)\n",
    "variants = pd.read_sql(\"select * from ComputeVariants\", db_connection)\n",
    "labels = variants[variants.columns[[2,3,4]]].apply(lambda x: f'{list(x)[0]} ({list(x)[1]} / {list(x)[2]})', 1).tolist()\n",
    "\n",
    "start_point = time_period['Param'] == 'start_point'\n",
    "end_point = time_period['Param'] == 'end_point'\n",
    "granularity = time_period['Param'] == 'granularity'\n",
    "\n",
    "print(\"Time settings verificaion:\")\n",
    "print(f\"  Start: {time_period['Day'][start_point].values[0]}. {time_period['Month'][start_point].values[0]}. {time_period['Year'][start_point].values[0]}\")\n",
    "print(f\"  Finish: {time_period['Day'][end_point].values[0]}. {time_period['Month'][end_point].values[0]}. {time_period['Year'][end_point].values[0]}\")\n",
    "print(f\"  Time step: {time_period['Day'][granularity].values[0]} days {time_period['Hour'][granularity].values[0]} hours {time_period['Minute'][granularity].values[0]} minutes\")"
   ]
  },
  {
   "cell_type": "markdown",
   "id": "3954791e",
   "metadata": {},
   "source": [
    "## Let's run\n",
    "\n",
    "\n",
    "\n",
    "..."
   ]
  },
  {
   "cell_type": "code",
   "execution_count": 64,
   "id": "bd18fab5",
   "metadata": {},
   "outputs": [
    {
     "name": "stdout",
     "output_type": "stream",
     "text": [
      "computing variant Earth Barycenter (nan / nan)\n",
      "      from 1/1/2022 \n",
      "        to 1/2/2022 \n",
      "        at time step 0 days 1 hours 0 minutes\n",
      "      output to file ./result/computed.csv\n",
      "computing variant Earth NewYork (40.0 / -75.0)\n",
      "      from 1/1/2022 \n",
      "        to 1/2/2022 \n",
      "        at time step 0 days 1 hours 0 minutes\n",
      "      output to file ./result/computed_ny.csv\n",
      "computing variant Earth Paris (50.0 / 0.0)\n",
      "      from 1/1/2022 \n",
      "        to 1/2/2022 \n",
      "        at time step 0 days 1 hours 0 minutes\n",
      "      output to file ./result/computed_pr.csv\n",
      "computing variant Earth Prague (50.0 / 15.0)\n",
      "      from 1/1/2022 \n",
      "        to 1/2/2022 \n",
      "        at time step 0 days 1 hours 0 minutes\n",
      "      output to file ./result/computed_pg.csv\n",
      "computing variant Earth RioDeJaneiro (-25.0 / -45.0)\n",
      "      from 1/1/2022 \n",
      "        to 1/2/2022 \n",
      "        at time step 0 days 1 hours 0 minutes\n",
      "      output to file ./result/computed_rj.csv\n",
      "computing variant Earth CapeTown (-35.0 / 20.0)\n",
      "      from 1/1/2022 \n",
      "        to 1/2/2022 \n",
      "        at time step 0 days 1 hours 0 minutes\n",
      "      output to file ./result/computed_ct.csv\n",
      "computing variant Earth Melbourne (-40.0 / 145.0)\n",
      "      from 1/1/2022 \n",
      "        to 1/2/2022 \n",
      "        at time step 0 days 1 hours 0 minutes\n",
      "      output to file ./result/computed_mb.csv\n",
      "computing variant Earth Beijing (40.0 / 115.0)\n",
      "      from 1/1/2022 \n",
      "        to 1/2/2022 \n",
      "        at time step 0 days 1 hours 0 minutes\n",
      "      output to file ./result/computed_bj.csv\n"
     ]
    }
   ],
   "source": [
    "planets = load('./source/de430.bsp')\n",
    "sel = Computation(planets['earth'], planets['moon'])\n",
    "\n",
    "for idx, var in variants.iterrows():\n",
    "    if not pd.isna(var[3]):\n",
    "            sel.shift(var[3], var[4])\n",
    "    print(f'computing variant {var[1]} {labels[idx]}')\n",
    "    o = observer(time_period[start_point], time_period[end_point], time_period[granularity])\n",
    "    print(f'      output to file ./result/{var[-1]}')\n",
    "    o.to_csv(f'./result/{var[-1]}', index=False, mode='w')\n"
   ]
  },
  {
   "cell_type": "markdown",
   "id": "34e5f678",
   "metadata": {},
   "source": [
    "## Further analysis\n",
    "\n",
    "You can now continue to analysis part [→](3_analysis.ipynb).\n"
   ]
  }
 ],
 "metadata": {
  "kernelspec": {
   "display_name": "Python 3.10.6 64-bit (windows store)",
   "language": "python",
   "name": "python3"
  },
  "language_info": {
   "codemirror_mode": {
    "name": "ipython",
    "version": 3
   },
   "file_extension": ".py",
   "mimetype": "text/x-python",
   "name": "python",
   "nbconvert_exporter": "python",
   "pygments_lexer": "ipython3",
   "version": "3.10.6"
  },
  "vscode": {
   "interpreter": {
    "hash": "0f7e70fe4bd5084255a791ea15acbefd75bc7aa553fbf6c45106e17ddd24bece"
   }
  }
 },
 "nbformat": 4,
 "nbformat_minor": 5
}
