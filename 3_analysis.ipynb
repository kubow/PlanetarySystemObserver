{
 "cells": [
  {
   "cell_type": "markdown",
   "id": "da07aeb9",
   "metadata": {},
   "source": [
    "### Overview\n",
    "\n",
    "We are computing values over below printed variants for a previously specified time.\n",
    "\n",
    "Lets again run intial preparation:"
   ]
  },
  {
   "cell_type": "code",
   "execution_count": 63,
   "id": "40db9705",
   "metadata": {},
   "outputs": [
    {
     "data": {
      "text/plain": [
       "['Barycenter (nan / nan)',\n",
       " 'NewYork (40.0 / -75.0)',\n",
       " 'Paris (50.0 / 0.0)',\n",
       " 'Prague (50.0 / 15.0)',\n",
       " 'RioDeJaneiro (-25.0 / -45.0)',\n",
       " 'CapeTown (-35.0 / 20.0)',\n",
       " 'Melbourne (-40.0 / 145.0)',\n",
       " 'Beijing (40.0 / 115.0)']"
      ]
     },
     "execution_count": 63,
     "metadata": {},
     "output_type": "execute_result"
    }
   ],
   "source": [
    "import matplotlib.pyplot as plt\n",
    "import pandas as pd\n",
    "import sqlite3\n",
    "\n",
    "db_connection = sqlite3.connect(\"./settings.db\")\n",
    "variants = pd.read_sql(\"select * from ComputeVariants\", db_connection)\n",
    "\n",
    "labels = variants[variants.columns[[2,3,4]]].apply(lambda x: f'{list(x)[0]} ({list(x)[1]} / {list(x)[2]})', 1).tolist()\n",
    "labels"
   ]
  },
  {
   "cell_type": "code",
   "execution_count": null,
   "id": "2cfabe11",
   "metadata": {},
   "outputs": [],
   "source": []
  },
  {
   "cell_type": "markdown",
   "id": "ae16155d",
   "metadata": {},
   "source": [
    "### Further analysis\n",
    "...\n",
    "\n",
    "Now we open the barrycenter file, which is a regression computed over all locations on earth.\n",
    "\n",
    "...this will be finished after I return here after I consult the results with specialists...\n"
   ]
  },
  {
   "cell_type": "code",
   "execution_count": null,
   "id": "93cb4afd",
   "metadata": {},
   "outputs": [],
   "source": [
    "\n",
    "csv = pd.read_csv('./result/computed.csv')\n",
    "peak_df = csv[(csv.shift(1) < csv) & (csv.shift(-1) < csv)]  # peaks\n",
    "#print(f\"{values[-1]}: {csv['declination'].min()} - {csv['declination'].max()}\")\n",
    "csv['min'] = csv.declination[(csv.declination.shift(1) > csv.declination) & (csv.declination.shift(-1) > csv.declination)]\n",
    "csv['max'] = csv.declination[(csv.declination.shift(1) < csv.declination) & (csv.declination.shift(-1) < csv.declination)]\n",
    "plt.scatter(csv.index, csv['min'], c='r')\n",
    "plt.scatter(csv.index, csv['max'], c='g')\n",
    "csv.declination.plot()\n",
    "# plt.plot(csv['date_time'], peak_df)\n",
    "#pd.read_csv('./result')\n",
    "#variants['']\n",
    "#print(dir(variants))\n"
   ]
  }
 ],
 "metadata": {
  "kernelspec": {
   "display_name": "Python 3",
   "language": "python",
   "name": "python3"
  },
  "language_info": {
   "codemirror_mode": {
    "name": "ipython",
    "version": 3
   },
   "file_extension": ".py",
   "mimetype": "text/x-python",
   "name": "python",
   "nbconvert_exporter": "python",
   "pygments_lexer": "ipython3",
   "version": "3.9.1"
  }
 },
 "nbformat": 4,
 "nbformat_minor": 5
}
